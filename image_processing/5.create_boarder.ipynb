{
 "cells": [
  {
   "attachments": {},
   "cell_type": "markdown",
   "metadata": {},
   "source": [
    "## Create border around an image\n",
    "\n"
   ]
  },
  {
   "cell_type": "code",
   "execution_count": 3,
   "metadata": {},
   "outputs": [
    {
     "data": {
      "text/plain": [
       "True"
      ]
     },
     "execution_count": 3,
     "metadata": {},
     "output_type": "execute_result"
    }
   ],
   "source": [
    "import cv2\n",
    "\n",
    "cat_img=cv2.imread(\"cat.jpg\",1)\n",
    "\n",
    "cv2.copyMakeBorder(src=cat_img,top=100,bottom=50,left=50,right=100,borderType=cv2.BORDER_DEFAULT)\n",
    "cv2.imwrite(\"create_border.jpg\",cat_img)\n",
    "cv2.copyMakeBorder(src=cat_img,top=100,bottom=50,left=50,right=100,borderType=cv2.BORDER_ISOLATED)\n",
    "\n",
    "cv2.imwrite(\"create_border_2.jpg\",cat_img)\n"
   ]
  },
  {
   "cell_type": "code",
   "execution_count": null,
   "metadata": {},
   "outputs": [],
   "source": []
  }
 ],
 "metadata": {
  "kernelspec": {
   "display_name": "Python 3",
   "language": "python",
   "name": "python3"
  },
  "language_info": {
   "codemirror_mode": {
    "name": "ipython",
    "version": 3
   },
   "file_extension": ".py",
   "mimetype": "text/x-python",
   "name": "python",
   "nbconvert_exporter": "python",
   "pygments_lexer": "ipython3",
   "version": "3.10.6"
  },
  "orig_nbformat": 4
 },
 "nbformat": 4,
 "nbformat_minor": 2
}
