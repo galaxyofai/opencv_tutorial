{
 "cells": [
  {
   "attachments": {},
   "cell_type": "markdown",
   "metadata": {},
   "source": [
    "<h1>Arithmetic Operations On Images</h1>\n",
    "\n",
    "<h4>1. Addition of two images</h4>\n",
    "<h4>2. Substraction of two images</h4>\n",
    "<h4>3. Multiplication of two images</h4>\n",
    "<h4>4. Division Of Two images</h4>\n",
    "<h4>5. Weighted Sum </h4>"
   ]
  },
  {
   "attachments": {},
   "cell_type": "markdown",
   "metadata": {},
   "source": [
    "<h5>First we understad the logic behind how arithmetics operations works on images</h5>\n",
    "<h5>All the arithmetic operations done pixel by pixel, and we know that the range of pixel value is 0 to 255.</h5>"
   ]
  },
  {
   "attachments": {},
   "cell_type": "markdown",
   "metadata": {},
   "source": [
    "<h3>1.Addition </h3>"
   ]
  },
  {
   "cell_type": "code",
   "execution_count": 2,
   "metadata": {},
   "outputs": [
    {
     "ename": "error",
     "evalue": "OpenCV(4.7.0) /io/opencv/modules/core/src/arithm.cpp:647: error: (-209:Sizes of input arguments do not match) The operation is neither 'array op array' (where arrays have the same size and the same number of channels), nor 'array op scalar', nor 'scalar op array' in function 'arithm_op'\n",
     "output_type": "error",
     "traceback": [
      "\u001b[0;31m---------------------------------------------------------------------------\u001b[0m",
      "\u001b[0;31merror\u001b[0m                                     Traceback (most recent call last)",
      "\u001b[0;32m/tmp/ipykernel_146416/1752609263.py\u001b[0m in \u001b[0;36m<module>\u001b[0;34m\u001b[0m\n\u001b[1;32m      6\u001b[0m \u001b[0mlion_img\u001b[0m\u001b[0;34m=\u001b[0m\u001b[0mcv2\u001b[0m\u001b[0;34m.\u001b[0m\u001b[0mimread\u001b[0m\u001b[0;34m(\u001b[0m\u001b[0;34m\"lion.jpg\"\u001b[0m\u001b[0;34m,\u001b[0m\u001b[0;36m1\u001b[0m\u001b[0;34m)\u001b[0m\u001b[0;34m\u001b[0m\u001b[0;34m\u001b[0m\u001b[0m\n\u001b[1;32m      7\u001b[0m \u001b[0;34m\u001b[0m\u001b[0m\n\u001b[0;32m----> 8\u001b[0;31m \u001b[0madd_image\u001b[0m\u001b[0;34m=\u001b[0m\u001b[0mcv2\u001b[0m\u001b[0;34m.\u001b[0m\u001b[0madd\u001b[0m\u001b[0;34m(\u001b[0m\u001b[0msrc1\u001b[0m\u001b[0;34m=\u001b[0m\u001b[0mcat_img\u001b[0m\u001b[0;34m,\u001b[0m\u001b[0msrc2\u001b[0m\u001b[0;34m=\u001b[0m\u001b[0mlion_img\u001b[0m\u001b[0;34m)\u001b[0m\u001b[0;34m\u001b[0m\u001b[0;34m\u001b[0m\u001b[0m\n\u001b[0m\u001b[1;32m      9\u001b[0m \u001b[0;34m\u001b[0m\u001b[0m\n\u001b[1;32m     10\u001b[0m \u001b[0mcv2\u001b[0m\u001b[0;34m.\u001b[0m\u001b[0mimwrite\u001b[0m\u001b[0;34m(\u001b[0m\u001b[0mfilename\u001b[0m\u001b[0;34m=\u001b[0m\u001b[0;34m\"addition_image.jpg\"\u001b[0m\u001b[0;34m,\u001b[0m\u001b[0mimg\u001b[0m\u001b[0;34m=\u001b[0m\u001b[0madd_image\u001b[0m\u001b[0;34m)\u001b[0m\u001b[0;34m\u001b[0m\u001b[0;34m\u001b[0m\u001b[0m\n",
      "\u001b[0;31merror\u001b[0m: OpenCV(4.7.0) /io/opencv/modules/core/src/arithm.cpp:647: error: (-209:Sizes of input arguments do not match) The operation is neither 'array op array' (where arrays have the same size and the same number of channels), nor 'array op scalar', nor 'scalar op array' in function 'arithm_op'\n"
     ]
    }
   ],
   "source": [
    "import cv2\n",
    "\n",
    "\n",
    "cat_img=cv2.imread(\"cat.jpg\",1)\n",
    "\n",
    "lion_img=cv2.imread(\"lion.jpg\",1)\n",
    "\n",
    "add_image=cv2.add(src1=cat_img,src2=lion_img)\n",
    "\n",
    "cv2.imwrite(filename=\"addition_image.jpg\",img=add_image)"
   ]
  },
  {
   "attachments": {},
   "cell_type": "markdown",
   "metadata": {},
   "source": [
    "we get an error because of image sahpe size, for addition both images must have same shape size with same channels.so first we have to resize both images to same size. "
   ]
  },
  {
   "cell_type": "code",
   "execution_count": 4,
   "metadata": {},
   "outputs": [
    {
     "name": "stdout",
     "output_type": "stream",
     "text": [
      "(640, 960, 3)\n",
      "(2835, 4252, 3)\n"
     ]
    }
   ],
   "source": [
    "print(cat_img.shape)\n",
    "print(lion_img.shape)"
   ]
  },
  {
   "cell_type": "code",
   "execution_count": 8,
   "metadata": {},
   "outputs": [
    {
     "name": "stdout",
     "output_type": "stream",
     "text": [
      "(640, 960, 3)\n"
     ]
    },
    {
     "data": {
      "text/plain": [
       "True"
      ]
     },
     "execution_count": 8,
     "metadata": {},
     "output_type": "execute_result"
    }
   ],
   "source": [
    "import cv2\n",
    "\n",
    "\n",
    "cat_img=cv2.imread(\"cat.jpg\",1)\n",
    "\n",
    "lion_img=cv2.imread(\"lion.jpg\",1)\n",
    "lion_img=cv2.resize(src=lion_img,dsize=(cat_img.shape[1],cat_img.shape[0]))\n",
    "print(lion_img.shape)\n",
    "add_image=cv2.add(src1=cat_img,src2=lion_img)\n",
    "\n",
    "cv2.imwrite(filename=\"addition_image.jpg\",img=add_image)"
   ]
  },
  {
   "cell_type": "code",
   "execution_count": 10,
   "metadata": {},
   "outputs": [
    {
     "name": "stdout",
     "output_type": "stream",
     "text": [
      "[[[ 49  97  79]\n",
      "  [ 49  97  79]\n",
      "  [ 49  97  79]\n",
      "  ...\n",
      "  [ 48 111  91]\n",
      "  [ 47 110  90]\n",
      "  [ 47 110  90]]\n",
      "\n",
      " [[ 47  95  77]\n",
      "  [ 47  95  77]\n",
      "  [ 47  95  77]\n",
      "  ...\n",
      "  [ 47 110  90]\n",
      "  [ 47 110  90]\n",
      "  [ 46 109  89]]\n",
      "\n",
      " [[ 45  93  75]\n",
      "  [ 45  93  75]\n",
      "  [ 45  93  75]\n",
      "  ...\n",
      "  [ 47 110  90]\n",
      "  [ 46 109  89]\n",
      "  [ 46 109  89]]\n",
      "\n",
      " ...\n",
      "\n",
      " [[ 69 140 113]\n",
      "  [ 66 138 108]\n",
      "  [ 54 128  98]\n",
      "  ...\n",
      "  [ 68 146 105]\n",
      "  [ 67 143 101]\n",
      "  [ 65 142  98]]\n",
      "\n",
      " [[ 54 125  98]\n",
      "  [ 55 127  97]\n",
      "  [ 52 126  96]\n",
      "  ...\n",
      "  [ 64 144 101]\n",
      "  [ 64 143  99]\n",
      "  [ 64 144  97]]\n",
      "\n",
      " [[ 40 111  84]\n",
      "  [ 47 119  89]\n",
      "  [ 51 125  95]\n",
      "  ...\n",
      "  [ 59 142  97]\n",
      "  [ 62 143  98]\n",
      "  [ 64 145  98]]]\n"
     ]
    }
   ],
   "source": [
    "print(cat_img)"
   ]
  },
  {
   "cell_type": "code",
   "execution_count": 11,
   "metadata": {},
   "outputs": [
    {
     "name": "stdout",
     "output_type": "stream",
     "text": [
      "[[[0 0 0]\n",
      "  [0 0 0]\n",
      "  [0 0 0]\n",
      "  ...\n",
      "  [2 2 2]\n",
      "  [1 1 1]\n",
      "  [0 0 0]]\n",
      "\n",
      " [[0 0 0]\n",
      "  [0 0 0]\n",
      "  [0 0 0]\n",
      "  ...\n",
      "  [4 4 4]\n",
      "  [1 1 1]\n",
      "  [0 0 0]]\n",
      "\n",
      " [[0 0 0]\n",
      "  [0 0 0]\n",
      "  [0 0 0]\n",
      "  ...\n",
      "  [0 0 0]\n",
      "  [0 0 0]\n",
      "  [0 0 0]]\n",
      "\n",
      " ...\n",
      "\n",
      " [[0 1 2]\n",
      "  [0 1 2]\n",
      "  [0 0 3]\n",
      "  ...\n",
      "  [0 0 0]\n",
      "  [0 0 0]\n",
      "  [0 0 0]]\n",
      "\n",
      " [[0 1 2]\n",
      "  [0 1 2]\n",
      "  [0 0 4]\n",
      "  ...\n",
      "  [0 0 0]\n",
      "  [0 0 0]\n",
      "  [0 0 0]]\n",
      "\n",
      " [[0 0 0]\n",
      "  [1 0 2]\n",
      "  [0 0 3]\n",
      "  ...\n",
      "  [0 0 0]\n",
      "  [0 0 0]\n",
      "  [0 0 0]]]\n"
     ]
    }
   ],
   "source": [
    "print(lion_img)"
   ]
  },
  {
   "cell_type": "code",
   "execution_count": 12,
   "metadata": {},
   "outputs": [
    {
     "name": "stdout",
     "output_type": "stream",
     "text": [
      "[[[ 49  97  79]\n",
      "  [ 49  97  79]\n",
      "  [ 49  97  79]\n",
      "  ...\n",
      "  [ 50 113  93]\n",
      "  [ 48 111  91]\n",
      "  [ 47 110  90]]\n",
      "\n",
      " [[ 47  95  77]\n",
      "  [ 47  95  77]\n",
      "  [ 47  95  77]\n",
      "  ...\n",
      "  [ 51 114  94]\n",
      "  [ 48 111  91]\n",
      "  [ 46 109  89]]\n",
      "\n",
      " [[ 45  93  75]\n",
      "  [ 45  93  75]\n",
      "  [ 45  93  75]\n",
      "  ...\n",
      "  [ 47 110  90]\n",
      "  [ 46 109  89]\n",
      "  [ 46 109  89]]\n",
      "\n",
      " ...\n",
      "\n",
      " [[ 69 141 115]\n",
      "  [ 66 139 110]\n",
      "  [ 54 128 101]\n",
      "  ...\n",
      "  [ 68 146 105]\n",
      "  [ 67 143 101]\n",
      "  [ 65 142  98]]\n",
      "\n",
      " [[ 54 126 100]\n",
      "  [ 55 128  99]\n",
      "  [ 52 126 100]\n",
      "  ...\n",
      "  [ 64 144 101]\n",
      "  [ 64 143  99]\n",
      "  [ 64 144  97]]\n",
      "\n",
      " [[ 40 111  84]\n",
      "  [ 48 119  91]\n",
      "  [ 51 125  98]\n",
      "  ...\n",
      "  [ 59 142  97]\n",
      "  [ 62 143  98]\n",
      "  [ 64 145  98]]]\n"
     ]
    }
   ],
   "source": [
    "print(add_image)"
   ]
  },
  {
   "attachments": {},
   "cell_type": "markdown",
   "metadata": {},
   "source": [
    "<h3>2.Substraction </h3>"
   ]
  },
  {
   "cell_type": "code",
   "execution_count": 13,
   "metadata": {},
   "outputs": [
    {
     "name": "stdout",
     "output_type": "stream",
     "text": [
      "(640, 960, 3)\n"
     ]
    },
    {
     "data": {
      "text/plain": [
       "True"
      ]
     },
     "execution_count": 13,
     "metadata": {},
     "output_type": "execute_result"
    }
   ],
   "source": [
    "import cv2\n",
    "\n",
    "\n",
    "cat_img=cv2.imread(\"cat.jpg\",1)\n",
    "\n",
    "lion_img=cv2.imread(\"lion.jpg\",1)\n",
    "lion_img=cv2.resize(src=lion_img,dsize=(cat_img.shape[1],cat_img.shape[0]))\n",
    "print(lion_img.shape)\n",
    "sub_image=cv2.subtract(src1=cat_img,src2=lion_img)\n",
    "\n",
    "cv2.imwrite(filename=\"substract_image.jpg\",img=sub_image)"
   ]
  },
  {
   "cell_type": "code",
   "execution_count": 14,
   "metadata": {},
   "outputs": [
    {
     "name": "stdout",
     "output_type": "stream",
     "text": [
      "[[[ 49  97  79]\n",
      "  [ 49  97  79]\n",
      "  [ 49  97  79]\n",
      "  ...\n",
      "  [ 48 111  91]\n",
      "  [ 47 110  90]\n",
      "  [ 47 110  90]]\n",
      "\n",
      " [[ 47  95  77]\n",
      "  [ 47  95  77]\n",
      "  [ 47  95  77]\n",
      "  ...\n",
      "  [ 47 110  90]\n",
      "  [ 47 110  90]\n",
      "  [ 46 109  89]]\n",
      "\n",
      " [[ 45  93  75]\n",
      "  [ 45  93  75]\n",
      "  [ 45  93  75]\n",
      "  ...\n",
      "  [ 47 110  90]\n",
      "  [ 46 109  89]\n",
      "  [ 46 109  89]]\n",
      "\n",
      " ...\n",
      "\n",
      " [[ 69 140 113]\n",
      "  [ 66 138 108]\n",
      "  [ 54 128  98]\n",
      "  ...\n",
      "  [ 68 146 105]\n",
      "  [ 67 143 101]\n",
      "  [ 65 142  98]]\n",
      "\n",
      " [[ 54 125  98]\n",
      "  [ 55 127  97]\n",
      "  [ 52 126  96]\n",
      "  ...\n",
      "  [ 64 144 101]\n",
      "  [ 64 143  99]\n",
      "  [ 64 144  97]]\n",
      "\n",
      " [[ 40 111  84]\n",
      "  [ 47 119  89]\n",
      "  [ 51 125  95]\n",
      "  ...\n",
      "  [ 59 142  97]\n",
      "  [ 62 143  98]\n",
      "  [ 64 145  98]]]\n"
     ]
    }
   ],
   "source": [
    "print(cat_img)"
   ]
  },
  {
   "cell_type": "code",
   "execution_count": 15,
   "metadata": {},
   "outputs": [
    {
     "name": "stdout",
     "output_type": "stream",
     "text": [
      "[[[0 0 0]\n",
      "  [0 0 0]\n",
      "  [0 0 0]\n",
      "  ...\n",
      "  [2 2 2]\n",
      "  [1 1 1]\n",
      "  [0 0 0]]\n",
      "\n",
      " [[0 0 0]\n",
      "  [0 0 0]\n",
      "  [0 0 0]\n",
      "  ...\n",
      "  [4 4 4]\n",
      "  [1 1 1]\n",
      "  [0 0 0]]\n",
      "\n",
      " [[0 0 0]\n",
      "  [0 0 0]\n",
      "  [0 0 0]\n",
      "  ...\n",
      "  [0 0 0]\n",
      "  [0 0 0]\n",
      "  [0 0 0]]\n",
      "\n",
      " ...\n",
      "\n",
      " [[0 1 2]\n",
      "  [0 1 2]\n",
      "  [0 0 3]\n",
      "  ...\n",
      "  [0 0 0]\n",
      "  [0 0 0]\n",
      "  [0 0 0]]\n",
      "\n",
      " [[0 1 2]\n",
      "  [0 1 2]\n",
      "  [0 0 4]\n",
      "  ...\n",
      "  [0 0 0]\n",
      "  [0 0 0]\n",
      "  [0 0 0]]\n",
      "\n",
      " [[0 0 0]\n",
      "  [1 0 2]\n",
      "  [0 0 3]\n",
      "  ...\n",
      "  [0 0 0]\n",
      "  [0 0 0]\n",
      "  [0 0 0]]]\n"
     ]
    }
   ],
   "source": [
    "print(lion_img)"
   ]
  },
  {
   "cell_type": "code",
   "execution_count": 16,
   "metadata": {},
   "outputs": [
    {
     "name": "stdout",
     "output_type": "stream",
     "text": [
      "[[[ 49  97  79]\n",
      "  [ 49  97  79]\n",
      "  [ 49  97  79]\n",
      "  ...\n",
      "  [ 46 109  89]\n",
      "  [ 46 109  89]\n",
      "  [ 47 110  90]]\n",
      "\n",
      " [[ 47  95  77]\n",
      "  [ 47  95  77]\n",
      "  [ 47  95  77]\n",
      "  ...\n",
      "  [ 43 106  86]\n",
      "  [ 46 109  89]\n",
      "  [ 46 109  89]]\n",
      "\n",
      " [[ 45  93  75]\n",
      "  [ 45  93  75]\n",
      "  [ 45  93  75]\n",
      "  ...\n",
      "  [ 47 110  90]\n",
      "  [ 46 109  89]\n",
      "  [ 46 109  89]]\n",
      "\n",
      " ...\n",
      "\n",
      " [[ 69 139 111]\n",
      "  [ 66 137 106]\n",
      "  [ 54 128  95]\n",
      "  ...\n",
      "  [ 68 146 105]\n",
      "  [ 67 143 101]\n",
      "  [ 65 142  98]]\n",
      "\n",
      " [[ 54 124  96]\n",
      "  [ 55 126  95]\n",
      "  [ 52 126  92]\n",
      "  ...\n",
      "  [ 64 144 101]\n",
      "  [ 64 143  99]\n",
      "  [ 64 144  97]]\n",
      "\n",
      " [[ 40 111  84]\n",
      "  [ 46 119  87]\n",
      "  [ 51 125  92]\n",
      "  ...\n",
      "  [ 59 142  97]\n",
      "  [ 62 143  98]\n",
      "  [ 64 145  98]]]\n"
     ]
    }
   ],
   "source": [
    "print(sub_image)"
   ]
  },
  {
   "attachments": {},
   "cell_type": "markdown",
   "metadata": {},
   "source": [
    "## 3. Multiplication"
   ]
  },
  {
   "cell_type": "code",
   "execution_count": 18,
   "metadata": {},
   "outputs": [
    {
     "name": "stdout",
     "output_type": "stream",
     "text": [
      "(640, 960, 3)\n"
     ]
    },
    {
     "data": {
      "text/plain": [
       "True"
      ]
     },
     "execution_count": 18,
     "metadata": {},
     "output_type": "execute_result"
    }
   ],
   "source": [
    "import cv2\n",
    "\n",
    "\n",
    "cat_img=cv2.imread(\"cat.jpg\",1)\n",
    "\n",
    "lion_img=cv2.imread(\"lion.jpg\",1)\n",
    "lion_img=cv2.resize(src=lion_img,dsize=(cat_img.shape[1],cat_img.shape[0]))\n",
    "print(lion_img.shape)\n",
    "mul_image=cv2.multiply(src1=cat_img,src2=lion_img)\n",
    "\n",
    "cv2.imwrite(filename=\"multiplication_image.jpg\",img=mul_image)"
   ]
  },
  {
   "cell_type": "code",
   "execution_count": 19,
   "metadata": {},
   "outputs": [
    {
     "name": "stdout",
     "output_type": "stream",
     "text": [
      "[[[ 49  97  79]\n",
      "  [ 49  97  79]\n",
      "  [ 49  97  79]\n",
      "  ...\n",
      "  [ 48 111  91]\n",
      "  [ 47 110  90]\n",
      "  [ 47 110  90]]\n",
      "\n",
      " [[ 47  95  77]\n",
      "  [ 47  95  77]\n",
      "  [ 47  95  77]\n",
      "  ...\n",
      "  [ 47 110  90]\n",
      "  [ 47 110  90]\n",
      "  [ 46 109  89]]\n",
      "\n",
      " [[ 45  93  75]\n",
      "  [ 45  93  75]\n",
      "  [ 45  93  75]\n",
      "  ...\n",
      "  [ 47 110  90]\n",
      "  [ 46 109  89]\n",
      "  [ 46 109  89]]\n",
      "\n",
      " ...\n",
      "\n",
      " [[ 69 140 113]\n",
      "  [ 66 138 108]\n",
      "  [ 54 128  98]\n",
      "  ...\n",
      "  [ 68 146 105]\n",
      "  [ 67 143 101]\n",
      "  [ 65 142  98]]\n",
      "\n",
      " [[ 54 125  98]\n",
      "  [ 55 127  97]\n",
      "  [ 52 126  96]\n",
      "  ...\n",
      "  [ 64 144 101]\n",
      "  [ 64 143  99]\n",
      "  [ 64 144  97]]\n",
      "\n",
      " [[ 40 111  84]\n",
      "  [ 47 119  89]\n",
      "  [ 51 125  95]\n",
      "  ...\n",
      "  [ 59 142  97]\n",
      "  [ 62 143  98]\n",
      "  [ 64 145  98]]]\n"
     ]
    }
   ],
   "source": [
    "print(cat_img)"
   ]
  },
  {
   "cell_type": "code",
   "execution_count": 20,
   "metadata": {},
   "outputs": [
    {
     "name": "stdout",
     "output_type": "stream",
     "text": [
      "[[[0 0 0]\n",
      "  [0 0 0]\n",
      "  [0 0 0]\n",
      "  ...\n",
      "  [2 2 2]\n",
      "  [1 1 1]\n",
      "  [0 0 0]]\n",
      "\n",
      " [[0 0 0]\n",
      "  [0 0 0]\n",
      "  [0 0 0]\n",
      "  ...\n",
      "  [4 4 4]\n",
      "  [1 1 1]\n",
      "  [0 0 0]]\n",
      "\n",
      " [[0 0 0]\n",
      "  [0 0 0]\n",
      "  [0 0 0]\n",
      "  ...\n",
      "  [0 0 0]\n",
      "  [0 0 0]\n",
      "  [0 0 0]]\n",
      "\n",
      " ...\n",
      "\n",
      " [[0 1 2]\n",
      "  [0 1 2]\n",
      "  [0 0 3]\n",
      "  ...\n",
      "  [0 0 0]\n",
      "  [0 0 0]\n",
      "  [0 0 0]]\n",
      "\n",
      " [[0 1 2]\n",
      "  [0 1 2]\n",
      "  [0 0 4]\n",
      "  ...\n",
      "  [0 0 0]\n",
      "  [0 0 0]\n",
      "  [0 0 0]]\n",
      "\n",
      " [[0 0 0]\n",
      "  [1 0 2]\n",
      "  [0 0 3]\n",
      "  ...\n",
      "  [0 0 0]\n",
      "  [0 0 0]\n",
      "  [0 0 0]]]\n"
     ]
    }
   ],
   "source": [
    "print(lion_img)"
   ]
  },
  {
   "cell_type": "code",
   "execution_count": 21,
   "metadata": {},
   "outputs": [
    {
     "name": "stdout",
     "output_type": "stream",
     "text": [
      "[[[  0   0   0]\n",
      "  [  0   0   0]\n",
      "  [  0   0   0]\n",
      "  ...\n",
      "  [ 96 222 182]\n",
      "  [ 47 110  90]\n",
      "  [  0   0   0]]\n",
      "\n",
      " [[  0   0   0]\n",
      "  [  0   0   0]\n",
      "  [  0   0   0]\n",
      "  ...\n",
      "  [188 255 255]\n",
      "  [ 47 110  90]\n",
      "  [  0   0   0]]\n",
      "\n",
      " [[  0   0   0]\n",
      "  [  0   0   0]\n",
      "  [  0   0   0]\n",
      "  ...\n",
      "  [  0   0   0]\n",
      "  [  0   0   0]\n",
      "  [  0   0   0]]\n",
      "\n",
      " ...\n",
      "\n",
      " [[  0 140 226]\n",
      "  [  0 138 216]\n",
      "  [  0   0 255]\n",
      "  ...\n",
      "  [  0   0   0]\n",
      "  [  0   0   0]\n",
      "  [  0   0   0]]\n",
      "\n",
      " [[  0 125 196]\n",
      "  [  0 127 194]\n",
      "  [  0   0 255]\n",
      "  ...\n",
      "  [  0   0   0]\n",
      "  [  0   0   0]\n",
      "  [  0   0   0]]\n",
      "\n",
      " [[  0   0   0]\n",
      "  [ 47   0 178]\n",
      "  [  0   0 255]\n",
      "  ...\n",
      "  [  0   0   0]\n",
      "  [  0   0   0]\n",
      "  [  0   0   0]]]\n"
     ]
    }
   ],
   "source": [
    "print(mul_image)"
   ]
  },
  {
   "attachments": {},
   "cell_type": "markdown",
   "metadata": {},
   "source": [
    "## 5. Division"
   ]
  },
  {
   "cell_type": "code",
   "execution_count": 22,
   "metadata": {},
   "outputs": [
    {
     "name": "stdout",
     "output_type": "stream",
     "text": [
      "(640, 960, 3)\n"
     ]
    },
    {
     "data": {
      "text/plain": [
       "True"
      ]
     },
     "execution_count": 22,
     "metadata": {},
     "output_type": "execute_result"
    }
   ],
   "source": [
    "import cv2\n",
    "\n",
    "\n",
    "cat_img=cv2.imread(\"cat.jpg\",1)\n",
    "\n",
    "lion_img=cv2.imread(\"lion.jpg\",1)\n",
    "lion_img=cv2.resize(src=lion_img,dsize=(cat_img.shape[1],cat_img.shape[0]))\n",
    "print(lion_img.shape)\n",
    "div_image=cv2.divide(src1=cat_img,src2=lion_img)\n",
    "\n",
    "cv2.imwrite(filename=\"division_image.jpg\",img=div_image)"
   ]
  },
  {
   "cell_type": "code",
   "execution_count": 23,
   "metadata": {},
   "outputs": [
    {
     "name": "stdout",
     "output_type": "stream",
     "text": [
      "[[[ 49  97  79]\n",
      "  [ 49  97  79]\n",
      "  [ 49  97  79]\n",
      "  ...\n",
      "  [ 48 111  91]\n",
      "  [ 47 110  90]\n",
      "  [ 47 110  90]]\n",
      "\n",
      " [[ 47  95  77]\n",
      "  [ 47  95  77]\n",
      "  [ 47  95  77]\n",
      "  ...\n",
      "  [ 47 110  90]\n",
      "  [ 47 110  90]\n",
      "  [ 46 109  89]]\n",
      "\n",
      " [[ 45  93  75]\n",
      "  [ 45  93  75]\n",
      "  [ 45  93  75]\n",
      "  ...\n",
      "  [ 47 110  90]\n",
      "  [ 46 109  89]\n",
      "  [ 46 109  89]]\n",
      "\n",
      " ...\n",
      "\n",
      " [[ 69 140 113]\n",
      "  [ 66 138 108]\n",
      "  [ 54 128  98]\n",
      "  ...\n",
      "  [ 68 146 105]\n",
      "  [ 67 143 101]\n",
      "  [ 65 142  98]]\n",
      "\n",
      " [[ 54 125  98]\n",
      "  [ 55 127  97]\n",
      "  [ 52 126  96]\n",
      "  ...\n",
      "  [ 64 144 101]\n",
      "  [ 64 143  99]\n",
      "  [ 64 144  97]]\n",
      "\n",
      " [[ 40 111  84]\n",
      "  [ 47 119  89]\n",
      "  [ 51 125  95]\n",
      "  ...\n",
      "  [ 59 142  97]\n",
      "  [ 62 143  98]\n",
      "  [ 64 145  98]]]\n"
     ]
    }
   ],
   "source": [
    "print(cat_img)"
   ]
  },
  {
   "cell_type": "code",
   "execution_count": 24,
   "metadata": {},
   "outputs": [
    {
     "name": "stdout",
     "output_type": "stream",
     "text": [
      "[[[0 0 0]\n",
      "  [0 0 0]\n",
      "  [0 0 0]\n",
      "  ...\n",
      "  [2 2 2]\n",
      "  [1 1 1]\n",
      "  [0 0 0]]\n",
      "\n",
      " [[0 0 0]\n",
      "  [0 0 0]\n",
      "  [0 0 0]\n",
      "  ...\n",
      "  [4 4 4]\n",
      "  [1 1 1]\n",
      "  [0 0 0]]\n",
      "\n",
      " [[0 0 0]\n",
      "  [0 0 0]\n",
      "  [0 0 0]\n",
      "  ...\n",
      "  [0 0 0]\n",
      "  [0 0 0]\n",
      "  [0 0 0]]\n",
      "\n",
      " ...\n",
      "\n",
      " [[0 1 2]\n",
      "  [0 1 2]\n",
      "  [0 0 3]\n",
      "  ...\n",
      "  [0 0 0]\n",
      "  [0 0 0]\n",
      "  [0 0 0]]\n",
      "\n",
      " [[0 1 2]\n",
      "  [0 1 2]\n",
      "  [0 0 4]\n",
      "  ...\n",
      "  [0 0 0]\n",
      "  [0 0 0]\n",
      "  [0 0 0]]\n",
      "\n",
      " [[0 0 0]\n",
      "  [1 0 2]\n",
      "  [0 0 3]\n",
      "  ...\n",
      "  [0 0 0]\n",
      "  [0 0 0]\n",
      "  [0 0 0]]]\n"
     ]
    }
   ],
   "source": [
    "print(lion_img)"
   ]
  },
  {
   "cell_type": "code",
   "execution_count": 25,
   "metadata": {},
   "outputs": [
    {
     "name": "stdout",
     "output_type": "stream",
     "text": [
      "[[[  0   0   0]\n",
      "  [  0   0   0]\n",
      "  [  0   0   0]\n",
      "  ...\n",
      "  [ 24  56  46]\n",
      "  [ 47 110  90]\n",
      "  [  0   0   0]]\n",
      "\n",
      " [[  0   0   0]\n",
      "  [  0   0   0]\n",
      "  [  0   0   0]\n",
      "  ...\n",
      "  [ 12  28  22]\n",
      "  [ 47 110  90]\n",
      "  [  0   0   0]]\n",
      "\n",
      " [[  0   0   0]\n",
      "  [  0   0   0]\n",
      "  [  0   0   0]\n",
      "  ...\n",
      "  [  0   0   0]\n",
      "  [  0   0   0]\n",
      "  [  0   0   0]]\n",
      "\n",
      " ...\n",
      "\n",
      " [[  0 140  56]\n",
      "  [  0 138  54]\n",
      "  [  0   0  33]\n",
      "  ...\n",
      "  [  0   0   0]\n",
      "  [  0   0   0]\n",
      "  [  0   0   0]]\n",
      "\n",
      " [[  0 125  49]\n",
      "  [  0 127  48]\n",
      "  [  0   0  24]\n",
      "  ...\n",
      "  [  0   0   0]\n",
      "  [  0   0   0]\n",
      "  [  0   0   0]]\n",
      "\n",
      " [[  0   0   0]\n",
      "  [ 47   0  44]\n",
      "  [  0   0  32]\n",
      "  ...\n",
      "  [  0   0   0]\n",
      "  [  0   0   0]\n",
      "  [  0   0   0]]]\n"
     ]
    }
   ],
   "source": [
    "print(div_image)"
   ]
  },
  {
   "attachments": {},
   "cell_type": "markdown",
   "metadata": {},
   "source": [
    "### Division with scale\n",
    "\n",
    "#### Scale= Multiply to the output value"
   ]
  },
  {
   "cell_type": "code",
   "execution_count": 31,
   "metadata": {},
   "outputs": [
    {
     "name": "stdout",
     "output_type": "stream",
     "text": [
      "(640, 960, 3)\n"
     ]
    },
    {
     "data": {
      "text/plain": [
       "True"
      ]
     },
     "execution_count": 31,
     "metadata": {},
     "output_type": "execute_result"
    }
   ],
   "source": [
    "import cv2\n",
    "\n",
    "\n",
    "cat_img=cv2.imread(\"cat.jpg\",1)\n",
    "\n",
    "lion_img=cv2.imread(\"lion.jpg\",1)\n",
    "lion_img=cv2.resize(src=lion_img,dsize=(cat_img.shape[1],cat_img.shape[0]))\n",
    "print(lion_img.shape)\n",
    "div_scale_image=cv2.divide(src1=cat_img,src2=lion_img,scale=4)\n",
    "\n",
    "cv2.imwrite(filename=\"division_scale_image.jpg\",img=div_scale_image)"
   ]
  },
  {
   "cell_type": "code",
   "execution_count": 33,
   "metadata": {},
   "outputs": [
    {
     "name": "stdout",
     "output_type": "stream",
     "text": [
      "[[[  0   0   0]\n",
      "  [  0   0   0]\n",
      "  [  0   0   0]\n",
      "  ...\n",
      "  [ 96 222 182]\n",
      "  [188 255 255]\n",
      "  [  0   0   0]]\n",
      "\n",
      " [[  0   0   0]\n",
      "  [  0   0   0]\n",
      "  [  0   0   0]\n",
      "  ...\n",
      "  [ 47 110  90]\n",
      "  [188 255 255]\n",
      "  [  0   0   0]]\n",
      "\n",
      " [[  0   0   0]\n",
      "  [  0   0   0]\n",
      "  [  0   0   0]\n",
      "  ...\n",
      "  [  0   0   0]\n",
      "  [  0   0   0]\n",
      "  [  0   0   0]]\n",
      "\n",
      " ...\n",
      "\n",
      " [[  0 255 226]\n",
      "  [  0 255 216]\n",
      "  [  0   0 131]\n",
      "  ...\n",
      "  [  0   0   0]\n",
      "  [  0   0   0]\n",
      "  [  0   0   0]]\n",
      "\n",
      " [[  0 255 196]\n",
      "  [  0 255 194]\n",
      "  [  0   0  96]\n",
      "  ...\n",
      "  [  0   0   0]\n",
      "  [  0   0   0]\n",
      "  [  0   0   0]]\n",
      "\n",
      " [[  0   0   0]\n",
      "  [188   0 178]\n",
      "  [  0   0 127]\n",
      "  ...\n",
      "  [  0   0   0]\n",
      "  [  0   0   0]\n",
      "  [  0   0   0]]]\n"
     ]
    }
   ],
   "source": [
    "print(div_scale_image)"
   ]
  },
  {
   "attachments": {},
   "cell_type": "markdown",
   "metadata": {},
   "source": [
    "## 6. Add Weighted"
   ]
  },
  {
   "attachments": {},
   "cell_type": "markdown",
   "metadata": {},
   "source": [
    "Alpha=how much weightage to give of image-1\n",
    "<br>\n",
    "Beta = weghtage of image-2\n",
    "<br>\n",
    "gamma= add value to the output pixel value"
   ]
  },
  {
   "cell_type": "code",
   "execution_count": 35,
   "metadata": {},
   "outputs": [
    {
     "name": "stdout",
     "output_type": "stream",
     "text": [
      "(640, 960, 3)\n"
     ]
    },
    {
     "data": {
      "text/plain": [
       "True"
      ]
     },
     "execution_count": 35,
     "metadata": {},
     "output_type": "execute_result"
    }
   ],
   "source": [
    "import cv2\n",
    "\n",
    "\n",
    "cat_img=cv2.imread(\"cat.jpg\",1)\n",
    "\n",
    "lion_img=cv2.imread(\"lion.jpg\",1)\n",
    "lion_img=cv2.resize(src=lion_img,dsize=(cat_img.shape[1],cat_img.shape[0]))\n",
    "print(lion_img.shape)\n",
    "weighted_image=cv2.addWeighted(src1=cat_img,src2=lion_img,alpha=0.5,beta=0.2,gamma=5)\n",
    "\n",
    "cv2.imwrite(filename=\"weighted_image.jpg\",img=weighted_image)"
   ]
  },
  {
   "cell_type": "code",
   "execution_count": null,
   "metadata": {},
   "outputs": [],
   "source": []
  }
 ],
 "metadata": {
  "kernelspec": {
   "display_name": "Python 3",
   "language": "python",
   "name": "python3"
  },
  "language_info": {
   "codemirror_mode": {
    "name": "ipython",
    "version": 3
   },
   "file_extension": ".py",
   "mimetype": "text/x-python",
   "name": "python",
   "nbconvert_exporter": "python",
   "pygments_lexer": "ipython3",
   "version": "3.10.6"
  },
  "orig_nbformat": 4
 },
 "nbformat": 4,
 "nbformat_minor": 2
}
