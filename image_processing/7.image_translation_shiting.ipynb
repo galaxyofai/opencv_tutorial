{
 "cells": [
  {
   "attachments": {},
   "cell_type": "markdown",
   "metadata": {},
   "source": [
    "## Image Translation And Shifting\n",
    "\n"
   ]
  },
  {
   "cell_type": "code",
   "execution_count": 1,
   "metadata": {},
   "outputs": [],
   "source": [
    "import cv2\n",
    "import numpy as np\n",
    "cat_image=cv2.imread(\"cat.jpg\",1)\n",
    "\n",
    "height=cat_image.shape[0]\n",
    "width=cat_image.shape[1]\n",
    "\n",
    "dimension=(width,height)\n",
    "# m fromat [[1,0,x],[0,1,y]]\n",
    "m=np.float32([[1,0,100],[0,1,100]])\n",
    "shifting = cv2.warpAffine(src=cat_image,dsize=dimension,M=m)\n",
    "\n",
    "cv2.imshow(\"Image\",cat_image)\n",
    "cv2.imshow(\"Shifted Image\",shifting)\n",
    "cv2.waitKey(0)\n",
    "cv2.destroyAllWindows()\n",
    "\n",
    "\n"
   ]
  },
  {
   "cell_type": "code",
   "execution_count": null,
   "metadata": {},
   "outputs": [],
   "source": []
  }
 ],
 "metadata": {
  "kernelspec": {
   "display_name": "Python 3",
   "language": "python",
   "name": "python3"
  },
  "language_info": {
   "codemirror_mode": {
    "name": "ipython",
    "version": 3
   },
   "file_extension": ".py",
   "mimetype": "text/x-python",
   "name": "python",
   "nbconvert_exporter": "python",
   "pygments_lexer": "ipython3",
   "version": "3.10.6"
  },
  "orig_nbformat": 4
 },
 "nbformat": 4,
 "nbformat_minor": 2
}
