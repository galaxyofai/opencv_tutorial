{
 "cells": [
  {
   "attachments": {},
   "cell_type": "markdown",
   "metadata": {},
   "source": [
    "## cvtColor Function"
   ]
  },
  {
   "cell_type": "code",
   "execution_count": 2,
   "metadata": {},
   "outputs": [
    {
     "name": "stdout",
     "output_type": "stream",
     "text": [
      "(640, 960, 3)\n"
     ]
    },
    {
     "data": {
      "text/plain": [
       "True"
      ]
     },
     "execution_count": 2,
     "metadata": {},
     "output_type": "execute_result"
    }
   ],
   "source": [
    "import cv2\n",
    "import matplotlib.pyplot as plt\n",
    "\n",
    "cat_img=cv2.imread(\"cat.jpg\",1)\n",
    "print(cat_img.shape)\n",
    "\n",
    "cat_img_2=cv2.cvtColor(src=cat_img,code=cv2.COLOR_BGR2GRAY)\n",
    "cv2.imwrite(filename=\"bgr2gray.jpg\",img=cat_img_2)\n",
    "# cv2.imshow(winname=\"Cat Image\",mat=cat_img_2)\n",
    "# cv2.waitKey(0)\n",
    "# cv2.destroyAllWindows()\n",
    "# # plt.imshow(cat_img_2,cmap='gray')"
   ]
  },
  {
   "cell_type": "code",
   "execution_count": 3,
   "metadata": {},
   "outputs": [
    {
     "name": "stdout",
     "output_type": "stream",
     "text": [
      "(640, 960, 3)\n"
     ]
    },
    {
     "data": {
      "text/plain": [
       "True"
      ]
     },
     "execution_count": 3,
     "metadata": {},
     "output_type": "execute_result"
    }
   ],
   "source": [
    "import cv2\n",
    "import matplotlib.pyplot as plt\n",
    "\n",
    "cat_img=cv2.imread(\"cat.jpg\",1)\n",
    "print(cat_img.shape)\n",
    "\n",
    "cat_img_2=cv2.cvtColor(src=cat_img,code=cv2.COLOR_BGR2HSV)\n",
    "cv2.imwrite(filename=\"bgr2hsv.jpg\",img=cat_img_2)"
   ]
  },
  {
   "cell_type": "code",
   "execution_count": 4,
   "metadata": {},
   "outputs": [
    {
     "name": "stdout",
     "output_type": "stream",
     "text": [
      "(640, 960, 3)\n"
     ]
    },
    {
     "data": {
      "text/plain": [
       "True"
      ]
     },
     "execution_count": 4,
     "metadata": {},
     "output_type": "execute_result"
    }
   ],
   "source": [
    "import cv2\n",
    "import matplotlib.pyplot as plt\n",
    "\n",
    "cat_img=cv2.imread(\"cat.jpg\",1)\n",
    "print(cat_img.shape)\n",
    "\n",
    "cat_img_2=cv2.cvtColor(src=cat_img,code=cv2.COLOR_BGR2RGB)\n",
    "cv2.imwrite(filename=\"bgr2rgb.jpg\",img=cat_img_2)"
   ]
  },
  {
   "attachments": {},
   "cell_type": "markdown",
   "metadata": {},
   "source": [
    "## Image Thresholding\n",
    "\n",
    "Based on some specifci threshold value we change the pixel values to blaock or white.\n",
    "There are two types of threshold\n",
    "1. Simple Threshold\n",
    "2. Adaptive Threshold"
   ]
  },
  {
   "attachments": {},
   "cell_type": "markdown",
   "metadata": {},
   "source": [
    "<h1> Simple Thresholding</h1>\n",
    "<h2> There are mainly Five different different thresholding techniques we can apply on our image for image processing</h2>\n"
   ]
  },
  {
   "attachments": {},
   "cell_type": "markdown",
   "metadata": {},
   "source": [
    "<h3>1.Binary Threshold</h3>"
   ]
  },
  {
   "cell_type": "code",
   "execution_count": 6,
   "metadata": {},
   "outputs": [
    {
     "name": "stdout",
     "output_type": "stream",
     "text": [
      "(640, 960, 3)\n",
      "100.0\n"
     ]
    },
    {
     "data": {
      "text/plain": [
       "True"
      ]
     },
     "execution_count": 6,
     "metadata": {},
     "output_type": "execute_result"
    }
   ],
   "source": [
    "import cv2\n",
    "import matplotlib.pyplot as plt\n",
    "\n",
    "cat_img=cv2.imread(\"cat.jpg\",1)\n",
    "print(cat_img.shape)\n",
    "ret,thresh=cv2.threshold(src=cat_img_2,thresh=100,maxval=255,type=cv2.THRESH_BINARY)\n",
    "print(ret)\n",
    "cv2.imwrite(filename=\"binary_threshold.jpg\",img=thresh)"
   ]
  },
  {
   "attachments": {},
   "cell_type": "markdown",
   "metadata": {},
   "source": [
    "here we set threshold value as 100 and threshold type is binary(0,1), so any pixel value which is greater than or equal to 100 will turn into 255 and all the other pixel values turn into 0.\n",
    "either the pixel values completety 0 or completely 255."
   ]
  },
  {
   "cell_type": "code",
   "execution_count": 7,
   "metadata": {},
   "outputs": [
    {
     "name": "stdout",
     "output_type": "stream",
     "text": [
      "[[[  0   0   0]\n",
      "  [  0   0   0]\n",
      "  [  0   0   0]\n",
      "  ...\n",
      "  [  0 255   0]\n",
      "  [  0 255   0]\n",
      "  [  0 255   0]]\n",
      "\n",
      " [[  0   0   0]\n",
      "  [  0   0   0]\n",
      "  [  0   0   0]\n",
      "  ...\n",
      "  [  0 255   0]\n",
      "  [  0 255   0]\n",
      "  [  0 255   0]]\n",
      "\n",
      " [[  0   0   0]\n",
      "  [  0   0   0]\n",
      "  [  0   0   0]\n",
      "  ...\n",
      "  [  0 255   0]\n",
      "  [  0 255   0]\n",
      "  [  0 255   0]]\n",
      "\n",
      " ...\n",
      "\n",
      " [[255 255   0]\n",
      "  [255 255   0]\n",
      "  [  0 255   0]\n",
      "  ...\n",
      "  [255 255   0]\n",
      "  [255 255   0]\n",
      "  [  0 255   0]]\n",
      "\n",
      " [[  0 255   0]\n",
      "  [  0 255   0]\n",
      "  [  0 255   0]\n",
      "  ...\n",
      "  [255 255   0]\n",
      "  [  0 255   0]\n",
      "  [  0 255   0]]\n",
      "\n",
      " [[  0 255   0]\n",
      "  [  0 255   0]\n",
      "  [  0 255   0]\n",
      "  ...\n",
      "  [  0 255   0]\n",
      "  [  0 255   0]\n",
      "  [  0 255   0]]]\n"
     ]
    }
   ],
   "source": [
    "print(thresh)"
   ]
  },
  {
   "cell_type": "code",
   "execution_count": 10,
   "metadata": {},
   "outputs": [
    {
     "name": "stdout",
     "output_type": "stream",
     "text": [
      "[[[ 49  97  79]\n",
      "  [ 49  97  79]\n",
      "  [ 49  97  79]\n",
      "  ...\n",
      "  [ 48 111  91]\n",
      "  [ 47 110  90]\n",
      "  [ 47 110  90]]\n",
      "\n",
      " [[ 47  95  77]\n",
      "  [ 47  95  77]\n",
      "  [ 47  95  77]\n",
      "  ...\n",
      "  [ 47 110  90]\n",
      "  [ 47 110  90]\n",
      "  [ 46 109  89]]\n",
      "\n",
      " [[ 45  93  75]\n",
      "  [ 45  93  75]\n",
      "  [ 45  93  75]\n",
      "  ...\n",
      "  [ 47 110  90]\n",
      "  [ 46 109  89]\n",
      "  [ 46 109  89]]\n",
      "\n",
      " ...\n",
      "\n",
      " [[ 69 140 113]\n",
      "  [ 66 138 108]\n",
      "  [ 54 128  98]\n",
      "  ...\n",
      "  [ 68 146 105]\n",
      "  [ 67 143 101]\n",
      "  [ 65 142  98]]\n",
      "\n",
      " [[ 54 125  98]\n",
      "  [ 55 127  97]\n",
      "  [ 52 126  96]\n",
      "  ...\n",
      "  [ 64 144 101]\n",
      "  [ 64 143  99]\n",
      "  [ 64 144  97]]\n",
      "\n",
      " [[ 40 111  84]\n",
      "  [ 47 119  89]\n",
      "  [ 51 125  95]\n",
      "  ...\n",
      "  [ 59 142  97]\n",
      "  [ 62 143  98]\n",
      "  [ 64 145  98]]]\n"
     ]
    }
   ],
   "source": [
    "print(cat_img)"
   ]
  },
  {
   "attachments": {},
   "cell_type": "markdown",
   "metadata": {},
   "source": [
    "<h3>2.Binary Inverse Threshold</h3>"
   ]
  },
  {
   "cell_type": "code",
   "execution_count": 8,
   "metadata": {},
   "outputs": [
    {
     "name": "stdout",
     "output_type": "stream",
     "text": [
      "(640, 960, 3)\n",
      "100.0\n"
     ]
    },
    {
     "data": {
      "text/plain": [
       "True"
      ]
     },
     "execution_count": 8,
     "metadata": {},
     "output_type": "execute_result"
    }
   ],
   "source": [
    "import cv2\n",
    "import matplotlib.pyplot as plt\n",
    "\n",
    "cat_img=cv2.imread(\"cat.jpg\",1)\n",
    "print(cat_img.shape)\n",
    "ret,thresh=cv2.threshold(src=cat_img_2,thresh=100,maxval=255,type=cv2.THRESH_BINARY_INV)\n",
    "print(ret)\n",
    "cv2.imwrite(filename=\"binary_inv_threshold.jpg\",img=thresh)"
   ]
  },
  {
   "cell_type": "code",
   "execution_count": 9,
   "metadata": {},
   "outputs": [
    {
     "name": "stdout",
     "output_type": "stream",
     "text": [
      "[[[255 255 255]\n",
      "  [255 255 255]\n",
      "  [255 255 255]\n",
      "  ...\n",
      "  [255   0 255]\n",
      "  [255   0 255]\n",
      "  [255   0 255]]\n",
      "\n",
      " [[255 255 255]\n",
      "  [255 255 255]\n",
      "  [255 255 255]\n",
      "  ...\n",
      "  [255   0 255]\n",
      "  [255   0 255]\n",
      "  [255   0 255]]\n",
      "\n",
      " [[255 255 255]\n",
      "  [255 255 255]\n",
      "  [255 255 255]\n",
      "  ...\n",
      "  [255   0 255]\n",
      "  [255   0 255]\n",
      "  [255   0 255]]\n",
      "\n",
      " ...\n",
      "\n",
      " [[  0   0 255]\n",
      "  [  0   0 255]\n",
      "  [255   0 255]\n",
      "  ...\n",
      "  [  0   0 255]\n",
      "  [  0   0 255]\n",
      "  [255   0 255]]\n",
      "\n",
      " [[255   0 255]\n",
      "  [255   0 255]\n",
      "  [255   0 255]\n",
      "  ...\n",
      "  [  0   0 255]\n",
      "  [255   0 255]\n",
      "  [255   0 255]]\n",
      "\n",
      " [[255   0 255]\n",
      "  [255   0 255]\n",
      "  [255   0 255]\n",
      "  ...\n",
      "  [255   0 255]\n",
      "  [255   0 255]\n",
      "  [255   0 255]]]\n"
     ]
    }
   ],
   "source": [
    "print(thresh)"
   ]
  },
  {
   "attachments": {},
   "cell_type": "markdown",
   "metadata": {},
   "source": [
    "<p>here we set threshold value as 100 and threshold type is binary inverse(0,1), so any pixel value which is greater than or equal to 100 will turn into 0 and all the other pixel values turn into 255.<br>\n",
    "here we can see either the pixel values completely 0 or completely 255.</p>"
   ]
  },
  {
   "attachments": {},
   "cell_type": "markdown",
   "metadata": {},
   "source": [
    "<h3>3.Truncate Threshold</h3>"
   ]
  },
  {
   "cell_type": "code",
   "execution_count": 12,
   "metadata": {},
   "outputs": [
    {
     "name": "stdout",
     "output_type": "stream",
     "text": [
      "(640, 960, 3)\n",
      "100.0\n"
     ]
    },
    {
     "data": {
      "text/plain": [
       "True"
      ]
     },
     "execution_count": 12,
     "metadata": {},
     "output_type": "execute_result"
    }
   ],
   "source": [
    "import cv2\n",
    "import matplotlib.pyplot as plt\n",
    "\n",
    "cat_img=cv2.imread(\"cat.jpg\",1)\n",
    "print(cat_img.shape)\n",
    "ret,thresh=cv2.threshold(src=cat_img_2,thresh=100,maxval=255,type=cv2.THRESH_TRUNC)\n",
    "print(ret)\n",
    "cv2.imwrite(filename=\"truncate_threshold.jpg\",img=thresh)"
   ]
  },
  {
   "cell_type": "code",
   "execution_count": 14,
   "metadata": {},
   "outputs": [
    {
     "name": "stdout",
     "output_type": "stream",
     "text": [
      "[[[ 49  97  79]\n",
      "  [ 49  97  79]\n",
      "  [ 49  97  79]\n",
      "  ...\n",
      "  [ 48 111  91]\n",
      "  [ 47 110  90]\n",
      "  [ 47 110  90]]\n",
      "\n",
      " [[ 47  95  77]\n",
      "  [ 47  95  77]\n",
      "  [ 47  95  77]\n",
      "  ...\n",
      "  [ 47 110  90]\n",
      "  [ 47 110  90]\n",
      "  [ 46 109  89]]\n",
      "\n",
      " [[ 45  93  75]\n",
      "  [ 45  93  75]\n",
      "  [ 45  93  75]\n",
      "  ...\n",
      "  [ 47 110  90]\n",
      "  [ 46 109  89]\n",
      "  [ 46 109  89]]\n",
      "\n",
      " ...\n",
      "\n",
      " [[ 69 140 113]\n",
      "  [ 66 138 108]\n",
      "  [ 54 128  98]\n",
      "  ...\n",
      "  [ 68 146 105]\n",
      "  [ 67 143 101]\n",
      "  [ 65 142  98]]\n",
      "\n",
      " [[ 54 125  98]\n",
      "  [ 55 127  97]\n",
      "  [ 52 126  96]\n",
      "  ...\n",
      "  [ 64 144 101]\n",
      "  [ 64 143  99]\n",
      "  [ 64 144  97]]\n",
      "\n",
      " [[ 40 111  84]\n",
      "  [ 47 119  89]\n",
      "  [ 51 125  95]\n",
      "  ...\n",
      "  [ 59 142  97]\n",
      "  [ 62 143  98]\n",
      "  [ 64 145  98]]]\n"
     ]
    }
   ],
   "source": [
    "print(cat_img)"
   ]
  },
  {
   "cell_type": "code",
   "execution_count": 13,
   "metadata": {},
   "outputs": [
    {
     "name": "stdout",
     "output_type": "stream",
     "text": [
      "[[[ 79  97  49]\n",
      "  [ 79  97  49]\n",
      "  [ 79  97  49]\n",
      "  ...\n",
      "  [ 91 100  48]\n",
      "  [ 90 100  47]\n",
      "  [ 90 100  47]]\n",
      "\n",
      " [[ 77  95  47]\n",
      "  [ 77  95  47]\n",
      "  [ 77  95  47]\n",
      "  ...\n",
      "  [ 90 100  47]\n",
      "  [ 90 100  47]\n",
      "  [ 89 100  46]]\n",
      "\n",
      " [[ 75  93  45]\n",
      "  [ 75  93  45]\n",
      "  [ 75  93  45]\n",
      "  ...\n",
      "  [ 90 100  47]\n",
      "  [ 89 100  46]\n",
      "  [ 89 100  46]]\n",
      "\n",
      " ...\n",
      "\n",
      " [[100 100  69]\n",
      "  [100 100  66]\n",
      "  [ 98 100  54]\n",
      "  ...\n",
      "  [100 100  68]\n",
      "  [100 100  67]\n",
      "  [ 98 100  65]]\n",
      "\n",
      " [[ 98 100  54]\n",
      "  [ 97 100  55]\n",
      "  [ 96 100  52]\n",
      "  ...\n",
      "  [100 100  64]\n",
      "  [ 99 100  64]\n",
      "  [ 97 100  64]]\n",
      "\n",
      " [[ 84 100  40]\n",
      "  [ 89 100  47]\n",
      "  [ 95 100  51]\n",
      "  ...\n",
      "  [ 97 100  59]\n",
      "  [ 98 100  62]\n",
      "  [ 98 100  64]]]\n"
     ]
    }
   ],
   "source": [
    "print(thresh)"
   ]
  },
  {
   "attachments": {},
   "cell_type": "markdown",
   "metadata": {},
   "source": [
    "<p>here we set threshold value as 100 and threshold type is truncate(0,1), so any pixel value which is greater than or equal to 100 will turn into 100 and all the other pixel values remains as it is.<br>\n"
   ]
  },
  {
   "attachments": {},
   "cell_type": "markdown",
   "metadata": {},
   "source": [
    "<h3>4. To Zero Threshold </h3>"
   ]
  },
  {
   "cell_type": "code",
   "execution_count": 15,
   "metadata": {},
   "outputs": [
    {
     "name": "stdout",
     "output_type": "stream",
     "text": [
      "(640, 960, 3)\n",
      "100.0\n"
     ]
    },
    {
     "data": {
      "text/plain": [
       "True"
      ]
     },
     "execution_count": 15,
     "metadata": {},
     "output_type": "execute_result"
    }
   ],
   "source": [
    "import cv2\n",
    "import matplotlib.pyplot as plt\n",
    "\n",
    "cat_img=cv2.imread(\"cat.jpg\",1)\n",
    "print(cat_img.shape)\n",
    "ret,thresh=cv2.threshold(src=cat_img_2,thresh=100,maxval=255,type=cv2.THRESH_TOZERO)\n",
    "print(ret)\n",
    "cv2.imwrite(filename=\"tozero_threshold.jpg\",img=thresh)"
   ]
  },
  {
   "cell_type": "code",
   "execution_count": 16,
   "metadata": {},
   "outputs": [
    {
     "name": "stdout",
     "output_type": "stream",
     "text": [
      "[[[ 49  97  79]\n",
      "  [ 49  97  79]\n",
      "  [ 49  97  79]\n",
      "  ...\n",
      "  [ 48 111  91]\n",
      "  [ 47 110  90]\n",
      "  [ 47 110  90]]\n",
      "\n",
      " [[ 47  95  77]\n",
      "  [ 47  95  77]\n",
      "  [ 47  95  77]\n",
      "  ...\n",
      "  [ 47 110  90]\n",
      "  [ 47 110  90]\n",
      "  [ 46 109  89]]\n",
      "\n",
      " [[ 45  93  75]\n",
      "  [ 45  93  75]\n",
      "  [ 45  93  75]\n",
      "  ...\n",
      "  [ 47 110  90]\n",
      "  [ 46 109  89]\n",
      "  [ 46 109  89]]\n",
      "\n",
      " ...\n",
      "\n",
      " [[ 69 140 113]\n",
      "  [ 66 138 108]\n",
      "  [ 54 128  98]\n",
      "  ...\n",
      "  [ 68 146 105]\n",
      "  [ 67 143 101]\n",
      "  [ 65 142  98]]\n",
      "\n",
      " [[ 54 125  98]\n",
      "  [ 55 127  97]\n",
      "  [ 52 126  96]\n",
      "  ...\n",
      "  [ 64 144 101]\n",
      "  [ 64 143  99]\n",
      "  [ 64 144  97]]\n",
      "\n",
      " [[ 40 111  84]\n",
      "  [ 47 119  89]\n",
      "  [ 51 125  95]\n",
      "  ...\n",
      "  [ 59 142  97]\n",
      "  [ 62 143  98]\n",
      "  [ 64 145  98]]]\n"
     ]
    }
   ],
   "source": [
    "print(cat_img)"
   ]
  },
  {
   "cell_type": "code",
   "execution_count": 17,
   "metadata": {},
   "outputs": [
    {
     "name": "stdout",
     "output_type": "stream",
     "text": [
      "[[[  0   0   0]\n",
      "  [  0   0   0]\n",
      "  [  0   0   0]\n",
      "  ...\n",
      "  [  0 111   0]\n",
      "  [  0 110   0]\n",
      "  [  0 110   0]]\n",
      "\n",
      " [[  0   0   0]\n",
      "  [  0   0   0]\n",
      "  [  0   0   0]\n",
      "  ...\n",
      "  [  0 110   0]\n",
      "  [  0 110   0]\n",
      "  [  0 109   0]]\n",
      "\n",
      " [[  0   0   0]\n",
      "  [  0   0   0]\n",
      "  [  0   0   0]\n",
      "  ...\n",
      "  [  0 110   0]\n",
      "  [  0 109   0]\n",
      "  [  0 109   0]]\n",
      "\n",
      " ...\n",
      "\n",
      " [[113 140   0]\n",
      "  [108 138   0]\n",
      "  [  0 128   0]\n",
      "  ...\n",
      "  [105 146   0]\n",
      "  [101 143   0]\n",
      "  [  0 142   0]]\n",
      "\n",
      " [[  0 125   0]\n",
      "  [  0 127   0]\n",
      "  [  0 126   0]\n",
      "  ...\n",
      "  [101 144   0]\n",
      "  [  0 143   0]\n",
      "  [  0 144   0]]\n",
      "\n",
      " [[  0 111   0]\n",
      "  [  0 119   0]\n",
      "  [  0 125   0]\n",
      "  ...\n",
      "  [  0 142   0]\n",
      "  [  0 143   0]\n",
      "  [  0 145   0]]]\n"
     ]
    }
   ],
   "source": [
    "print(thresh)"
   ]
  },
  {
   "attachments": {},
   "cell_type": "markdown",
   "metadata": {},
   "source": [
    "<p>here we set threshold value as 100 and threshold type is truncate(0,1), so any pixel value which is greater than or equal to 100 will turn into 100 and all the other pixel values turn into 0.<br>"
   ]
  },
  {
   "attachments": {},
   "cell_type": "markdown",
   "metadata": {},
   "source": [
    "<h3>5. To Zeo Inverse Threshold</h3>"
   ]
  },
  {
   "cell_type": "code",
   "execution_count": 19,
   "metadata": {},
   "outputs": [
    {
     "name": "stdout",
     "output_type": "stream",
     "text": [
      "(640, 960, 3)\n",
      "100.0\n"
     ]
    },
    {
     "data": {
      "text/plain": [
       "True"
      ]
     },
     "execution_count": 19,
     "metadata": {},
     "output_type": "execute_result"
    }
   ],
   "source": [
    "import cv2\n",
    "import matplotlib.pyplot as plt\n",
    "\n",
    "cat_img=cv2.imread(\"cat.jpg\",1)\n",
    "print(cat_img.shape)\n",
    "ret,thresh=cv2.threshold(src=cat_img_2,thresh=100,maxval=255,type=cv2.THRESH_TOZERO_INV)\n",
    "print(ret)\n",
    "cv2.imwrite(filename=\"tozero_inv_threshold.jpg\",img=thresh)"
   ]
  },
  {
   "cell_type": "code",
   "execution_count": 20,
   "metadata": {},
   "outputs": [
    {
     "name": "stdout",
     "output_type": "stream",
     "text": [
      "[[[ 49  97  79]\n",
      "  [ 49  97  79]\n",
      "  [ 49  97  79]\n",
      "  ...\n",
      "  [ 48 111  91]\n",
      "  [ 47 110  90]\n",
      "  [ 47 110  90]]\n",
      "\n",
      " [[ 47  95  77]\n",
      "  [ 47  95  77]\n",
      "  [ 47  95  77]\n",
      "  ...\n",
      "  [ 47 110  90]\n",
      "  [ 47 110  90]\n",
      "  [ 46 109  89]]\n",
      "\n",
      " [[ 45  93  75]\n",
      "  [ 45  93  75]\n",
      "  [ 45  93  75]\n",
      "  ...\n",
      "  [ 47 110  90]\n",
      "  [ 46 109  89]\n",
      "  [ 46 109  89]]\n",
      "\n",
      " ...\n",
      "\n",
      " [[ 69 140 113]\n",
      "  [ 66 138 108]\n",
      "  [ 54 128  98]\n",
      "  ...\n",
      "  [ 68 146 105]\n",
      "  [ 67 143 101]\n",
      "  [ 65 142  98]]\n",
      "\n",
      " [[ 54 125  98]\n",
      "  [ 55 127  97]\n",
      "  [ 52 126  96]\n",
      "  ...\n",
      "  [ 64 144 101]\n",
      "  [ 64 143  99]\n",
      "  [ 64 144  97]]\n",
      "\n",
      " [[ 40 111  84]\n",
      "  [ 47 119  89]\n",
      "  [ 51 125  95]\n",
      "  ...\n",
      "  [ 59 142  97]\n",
      "  [ 62 143  98]\n",
      "  [ 64 145  98]]]\n"
     ]
    }
   ],
   "source": [
    "print(cat_img)"
   ]
  },
  {
   "cell_type": "code",
   "execution_count": 21,
   "metadata": {},
   "outputs": [
    {
     "name": "stdout",
     "output_type": "stream",
     "text": [
      "[[[79 97 49]\n",
      "  [79 97 49]\n",
      "  [79 97 49]\n",
      "  ...\n",
      "  [91  0 48]\n",
      "  [90  0 47]\n",
      "  [90  0 47]]\n",
      "\n",
      " [[77 95 47]\n",
      "  [77 95 47]\n",
      "  [77 95 47]\n",
      "  ...\n",
      "  [90  0 47]\n",
      "  [90  0 47]\n",
      "  [89  0 46]]\n",
      "\n",
      " [[75 93 45]\n",
      "  [75 93 45]\n",
      "  [75 93 45]\n",
      "  ...\n",
      "  [90  0 47]\n",
      "  [89  0 46]\n",
      "  [89  0 46]]\n",
      "\n",
      " ...\n",
      "\n",
      " [[ 0  0 69]\n",
      "  [ 0  0 66]\n",
      "  [98  0 54]\n",
      "  ...\n",
      "  [ 0  0 68]\n",
      "  [ 0  0 67]\n",
      "  [98  0 65]]\n",
      "\n",
      " [[98  0 54]\n",
      "  [97  0 55]\n",
      "  [96  0 52]\n",
      "  ...\n",
      "  [ 0  0 64]\n",
      "  [99  0 64]\n",
      "  [97  0 64]]\n",
      "\n",
      " [[84  0 40]\n",
      "  [89  0 47]\n",
      "  [95  0 51]\n",
      "  ...\n",
      "  [97  0 59]\n",
      "  [98  0 62]\n",
      "  [98  0 64]]]\n"
     ]
    }
   ],
   "source": [
    "print(thresh)"
   ]
  },
  {
   "attachments": {},
   "cell_type": "markdown",
   "metadata": {},
   "source": [
    "<p>here we set threshold value as 100 and threshold type is truncate(0,1), so any pixel value which is greater than or equal to 100 will turn into 0 and all the other pixel values remains as it is.<br>"
   ]
  },
  {
   "cell_type": "code",
   "execution_count": null,
   "metadata": {},
   "outputs": [],
   "source": []
  }
 ],
 "metadata": {
  "kernelspec": {
   "display_name": "Python 3",
   "language": "python",
   "name": "python3"
  },
  "language_info": {
   "codemirror_mode": {
    "name": "ipython",
    "version": 3
   },
   "file_extension": ".py",
   "mimetype": "text/x-python",
   "name": "python",
   "nbconvert_exporter": "python",
   "pygments_lexer": "ipython3",
   "version": "3.10.6"
  },
  "orig_nbformat": 4
 },
 "nbformat": 4,
 "nbformat_minor": 2
}
