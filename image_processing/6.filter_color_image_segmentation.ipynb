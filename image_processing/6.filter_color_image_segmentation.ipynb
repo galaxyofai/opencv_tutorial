{
 "cells": [
  {
   "attachments": {},
   "cell_type": "markdown",
   "metadata": {},
   "source": [
    "## Color Segmentation\n",
    "\n",
    "- color segmentation is to extract only those feature from the image which is having the specific color we want to see.\n",
    "\n",
    "- For this we use HSV color model.\n",
    "\n",
    "### Why HSV color model?\n",
    "\n",
    "- we know that opencv takes BGR format and defining colors using BGR is little bit tuff because of one color has lots of variants that's why we use HSV color model."
   ]
  },
  {
   "cell_type": "code",
   "execution_count": 12,
   "metadata": {},
   "outputs": [
    {
     "name": "stdout",
     "output_type": "stream",
     "text": [
      "[[[  0   0 255]]]\n"
     ]
    }
   ],
   "source": [
    "import cv2\n",
    "import numpy as np\n",
    "cat_image=cv2.imread(\"cat.jpg\",1)\n",
    "\n",
    "hsv_cat=cv2.cvtColor(src=cat_image,code=cv2.COLOR_BGR2HSV)\n",
    "#here cat is white\n",
    "# find range of white color in HSV\n",
    "white_color_bgr=np.uint8([[[255,255,255]]])\n",
    "white_color_hsv=cv2.cvtColor(src=white_color_bgr,code=cv2.COLOR_BGR2HSV)\n",
    "print(white_color_hsv)\n",
    "\n",
    "\n",
    "\n"
   ]
  },
  {
   "cell_type": "code",
   "execution_count": 25,
   "metadata": {},
   "outputs": [],
   "source": [
    "hsv_of_white=white_color_hsv\n",
    "lower_white=(0,0,168)\n",
    "higher_white=(172,111,255)\n",
    "\n",
    "mask=cv2.inRange(src=hsv_cat,lowerb=lower_white,upperb=higher_white)\n",
    "\n",
    "result=cv2.bitwise_and(cat_image,cat_image,mask=mask)\n",
    "cv2.imshow(\"Original\",cat_image)\n",
    "cv2.imshow(\"Result\",result)\n",
    "\n",
    "\n",
    "\n",
    "# cv2.imshow(\"HSV\",hsv_cat)\n",
    "# cv2.imshow(\"Mask\",mask)\n",
    "cv2.waitKey(0)\n",
    "cv2.destroyAllWindows()"
   ]
  },
  {
   "cell_type": "code",
   "execution_count": null,
   "metadata": {},
   "outputs": [],
   "source": []
  }
 ],
 "metadata": {
  "kernelspec": {
   "display_name": "Python 3",
   "language": "python",
   "name": "python3"
  },
  "language_info": {
   "codemirror_mode": {
    "name": "ipython",
    "version": 3
   },
   "file_extension": ".py",
   "mimetype": "text/x-python",
   "name": "python",
   "nbconvert_exporter": "python",
   "pygments_lexer": "ipython3",
   "version": "3.10.6"
  },
  "orig_nbformat": 4
 },
 "nbformat": 4,
 "nbformat_minor": 2
}
