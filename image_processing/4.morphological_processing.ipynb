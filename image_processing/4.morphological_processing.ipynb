{
 "cells": [
  {
   "attachments": {},
   "cell_type": "markdown",
   "metadata": {},
   "source": [
    "## Morphological Processing on Images using opencv\n",
    "\n",
    "- In morphological we are trying to playing with the feature of image by increase or decrease  the noise of an image,or highlight or unhighlight the feature in image.\n",
    "\n",
    "- we apply morphological operation generally on gray image or binary image.\n",
    "\n",
    "- there are four types of morphological operations\n",
    "\n",
    "1. erosion(decrease the noise )\n",
    " - we apply erosion the feature in image is highlighted\n",
    "\n",
    "2. dilation(increase the noise)\n",
    "3. opening\n",
    "    - first apply erosion and then dilation\n",
    "4. closing\n",
    "    - firts apply dilation and then erosion\n",
    "\n",
    "In morphological operation we write \n",
    "0- Black\n",
    "1- White\n"
   ]
  },
  {
   "cell_type": "code",
   "execution_count": 3,
   "metadata": {},
   "outputs": [
    {
     "name": "stdout",
     "output_type": "stream",
     "text": [
      "(640, 960)\n"
     ]
    },
    {
     "data": {
      "text/plain": [
       "True"
      ]
     },
     "execution_count": 3,
     "metadata": {},
     "output_type": "execute_result"
    }
   ],
   "source": [
    "import cv2\n",
    "import numpy as np\n",
    "kernel=np.ones((3,3),np.uint)\n",
    "cat_img=cv2.imread(\"cat.jpg\",0)\n",
    "print(cat_img.shape)\n",
    "\n",
    "cat_erosion=cv2.erode(src=cat_img,kernel=kernel,iterations=3)\n",
    "\n",
    "cv2.imwrite(\"erosion_cat.jpg\",cat_erosion)"
   ]
  },
  {
   "cell_type": "code",
   "execution_count": 4,
   "metadata": {},
   "outputs": [
    {
     "name": "stdout",
     "output_type": "stream",
     "text": [
      "(640, 960)\n"
     ]
    },
    {
     "data": {
      "text/plain": [
       "True"
      ]
     },
     "execution_count": 4,
     "metadata": {},
     "output_type": "execute_result"
    }
   ],
   "source": [
    "import cv2\n",
    "import numpy as np\n",
    "kernel=np.ones((3,3),np.uint)\n",
    "cat_img=cv2.imread(\"cat.jpg\",0)\n",
    "print(cat_img.shape)\n",
    "\n",
    "cat_erosion=cv2.dilate(src=cat_img,kernel=kernel,iterations=3)\n",
    "\n",
    "cv2.imwrite(\"dilation_cat.jpg\",cat_erosion)"
   ]
  },
  {
   "attachments": {},
   "cell_type": "markdown",
   "metadata": {},
   "source": [
    "## Opening And Closing"
   ]
  },
  {
   "cell_type": "code",
   "execution_count": 5,
   "metadata": {},
   "outputs": [
    {
     "name": "stdout",
     "output_type": "stream",
     "text": [
      "(640, 960)\n"
     ]
    },
    {
     "data": {
      "text/plain": [
       "True"
      ]
     },
     "execution_count": 5,
     "metadata": {},
     "output_type": "execute_result"
    }
   ],
   "source": [
    "import cv2\n",
    "import numpy as np\n",
    "kernel=np.ones((3,3),np.uint)\n",
    "cat_img=cv2.imread(\"cat.jpg\",0)\n",
    "print(cat_img.shape)\n",
    "\n",
    "cat_erosion=cv2.morphologyEx(src=cat_img,op=cv2.MORPH_OPEN, kernel=kernel,iterations=3)\n",
    "\n",
    "cv2.imwrite(\"opening_morph_cat.jpg\",cat_erosion)"
   ]
  },
  {
   "cell_type": "code",
   "execution_count": 6,
   "metadata": {},
   "outputs": [
    {
     "name": "stdout",
     "output_type": "stream",
     "text": [
      "(640, 960)\n"
     ]
    },
    {
     "data": {
      "text/plain": [
       "True"
      ]
     },
     "execution_count": 6,
     "metadata": {},
     "output_type": "execute_result"
    }
   ],
   "source": [
    "import cv2\n",
    "import numpy as np\n",
    "kernel=np.ones((3,3),np.uint)\n",
    "cat_img=cv2.imread(\"cat.jpg\",0)\n",
    "print(cat_img.shape)\n",
    "\n",
    "cat_erosion=cv2.morphologyEx(src=cat_img,op=cv2.MORPH_CLOSE, kernel=kernel,iterations=3)\n",
    "\n",
    "cv2.imwrite(\"closing_morph_cat.jpg\",cat_erosion)"
   ]
  },
  {
   "cell_type": "code",
   "execution_count": null,
   "metadata": {},
   "outputs": [],
   "source": []
  }
 ],
 "metadata": {
  "kernelspec": {
   "display_name": "Python 3",
   "language": "python",
   "name": "python3"
  },
  "language_info": {
   "codemirror_mode": {
    "name": "ipython",
    "version": 3
   },
   "file_extension": ".py",
   "mimetype": "text/x-python",
   "name": "python",
   "nbconvert_exporter": "python",
   "pygments_lexer": "ipython3",
   "version": "3.10.6"
  },
  "orig_nbformat": 4
 },
 "nbformat": 4,
 "nbformat_minor": 2
}
