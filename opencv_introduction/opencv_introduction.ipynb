{
 "cells": [
  {
   "attachments": {},
   "cell_type": "markdown",
   "metadata": {},
   "source": [
    "## Introduction to opencv\n",
    "\n",
    "### OpenCV is a library in the field of computer vision that will help us to achieve many many task like image porcessing or video processing here we understad some concepts of Opencv. \n",
    "\n",
    "### Opencv is a very vast library and we can use it with C,C++ Or Python.Documentation is very easy to undersatnd and also code is very easy to understand\n",
    "\n",
    "### there are lots of functions like face detection that will help us to detect the face and then we can easily recognize it.\n",
    "### So opnecv will help us in many many applications of computer vision.\n",
    "### Here are the some application of computer vision\n",
    "\n",
    "1.Face Recognition\n",
    "2.Object Detection\n",
    "3.Object Classification\n",
    "4.Image Recognition\n",
    "5.Pattern Recognition\n",
    "6.Robotics\n",
    "\n",
    "\n"
   ]
  },
  {
   "attachments": {},
   "cell_type": "markdown",
   "metadata": {},
   "source": [
    "### Check Python is istalled or not?"
   ]
  },
  {
   "cell_type": "code",
   "execution_count": 1,
   "metadata": {},
   "outputs": [
    {
     "name": "stdout",
     "output_type": "stream",
     "text": [
      "Python 3.10.6\n"
     ]
    }
   ],
   "source": [
    "!python3 -V"
   ]
  },
  {
   "cell_type": "code",
   "execution_count": 2,
   "metadata": {},
   "outputs": [
    {
     "name": "stdout",
     "output_type": "stream",
     "text": [
      "pip 23.0.1 from /home/tech/.local/lib/python3.10/site-packages/pip (python 3.10)\n"
     ]
    }
   ],
   "source": [
    "!pip --version"
   ]
  },
  {
   "attachments": {},
   "cell_type": "markdown",
   "metadata": {},
   "source": [
    "## OpenCV Installation"
   ]
  },
  {
   "cell_type": "code",
   "execution_count": 4,
   "metadata": {},
   "outputs": [
    {
     "name": "stdout",
     "output_type": "stream",
     "text": [
      "Defaulting to user installation because normal site-packages is not writeable\n",
      "Requirement already satisfied: opencv-python in /home/tech/.local/lib/python3.10/site-packages (4.7.0.68)\n",
      "Requirement already satisfied: numpy>=1.17.3 in /home/tech/.local/lib/python3.10/site-packages (from opencv-python) (1.24.2)\n"
     ]
    }
   ],
   "source": [
    "!pip install opencv-python"
   ]
  },
  {
   "cell_type": "code",
   "execution_count": 1,
   "metadata": {},
   "outputs": [],
   "source": [
    "import cv2"
   ]
  },
  {
   "cell_type": "code",
   "execution_count": 2,
   "metadata": {},
   "outputs": [
    {
     "data": {
      "text/plain": [
       "'4.7.0'"
      ]
     },
     "execution_count": 2,
     "metadata": {},
     "output_type": "execute_result"
    }
   ],
   "source": [
    "cv2.__version__"
   ]
  },
  {
   "attachments": {},
   "cell_type": "markdown",
   "metadata": {},
   "source": [
    "## Reading And Displaying Image"
   ]
  },
  {
   "cell_type": "code",
   "execution_count": 1,
   "metadata": {},
   "outputs": [
    {
     "data": {
      "text/plain": [
       "(640, 960, 3)"
      ]
     },
     "execution_count": 1,
     "metadata": {},
     "output_type": "execute_result"
    }
   ],
   "source": [
    "import cv2\n",
    "\n",
    "img=cv2.imread(\"test_img.jpg\")\n",
    "# print()\n",
    "img.shape"
   ]
  },
  {
   "cell_type": "code",
   "execution_count": 4,
   "metadata": {},
   "outputs": [],
   "source": [
    "cv2.imshow(winname=\"Test Image\",mat=img)\n",
    "cv2.waitKey(0)\n",
    "cv2.destroyAllWindows()"
   ]
  },
  {
   "attachments": {},
   "cell_type": "markdown",
   "metadata": {},
   "source": [
    "### Flags\n",
    "\n",
    "- to read image in color flag=1 by default, cv2.IMREAD_COLOR\n",
    "- to read image in gray color flag=0, cv2.IMREAD_GRAYSCALE\n",
    "- to read image as it is flag=-1,cv2.IMREAD_UNCHANGED\n"
   ]
  },
  {
   "cell_type": "code",
   "execution_count": 3,
   "metadata": {},
   "outputs": [],
   "source": [
    "import cv2\n",
    "\n",
    "img=cv2.imread(filename=\"test_img.jpg\",flags=0) #grayscale\n",
    "img=cv2.imread(filename=\"test_img.jpg\",flags=cv2.IMREAD_GRAYSCALE) #grayscale\n",
    "\n",
    "cv2.imshow(winname=\"Test Image\",mat=img)\n",
    "\n",
    "cv2.waitKey(0)\n",
    "cv2.destroyAllWindows()"
   ]
  },
  {
   "cell_type": "code",
   "execution_count": 1,
   "metadata": {},
   "outputs": [],
   "source": [
    "import cv2\n",
    "\n",
    "img=cv2.imread(filename=\"test_img.jpg\",flags=2) #grayscale\n",
    "cv2.imshow(winname=\"Test Image\",mat=img)\n",
    "\n",
    "cv2.waitKey(0)\n",
    "cv2.destroyAllWindows()"
   ]
  },
  {
   "cell_type": "code",
   "execution_count": 1,
   "metadata": {},
   "outputs": [],
   "source": [
    "import cv2\n",
    "\n",
    "# img=cv2.imread(filename=\"test_img.jpg\",flags=1) #rgb\n",
    "img=cv2.imread(filename=\"test_img.jpg\",flags=cv2.IMREAD_COLOR) #rgb\n",
    "\n",
    "cv2.imshow(winname=\"Test Image\",mat=img)\n",
    "\n",
    "cv2.waitKey(0)\n",
    "cv2.destroyAllWindows()"
   ]
  },
  {
   "cell_type": "code",
   "execution_count": 3,
   "metadata": {},
   "outputs": [],
   "source": [
    "import cv2\n",
    "\n",
    "# img=cv2.imread(filename=\"test_img.jpg\",flags=1) #rgb\n",
    "img=cv2.imread(filename=\"img_2.png\",flags=cv2.IMREAD_UNCHANGED) #rgb\n",
    "print(img.shape)\n",
    "cv2.imshow(winname=\"Test Image\",mat=img)\n",
    "\n",
    "cv2.waitKey(0)\n",
    "cv2.destroyAllWindows()"
   ]
  },
  {
   "attachments": {},
   "cell_type": "markdown",
   "metadata": {},
   "source": [
    "## Image resize"
   ]
  },
  {
   "cell_type": "code",
   "execution_count": 5,
   "metadata": {},
   "outputs": [
    {
     "name": "stdout",
     "output_type": "stream",
     "text": [
      "(640, 960, 3)\n"
     ]
    }
   ],
   "source": [
    "import cv2\n",
    "\n",
    "img=cv2.imread(filename=\"test_img.jpg\",flags=1) #rgb\n",
    "\n",
    "print(img.shape)"
   ]
  },
  {
   "cell_type": "code",
   "execution_count": 1,
   "metadata": {},
   "outputs": [
    {
     "name": "stdout",
     "output_type": "stream",
     "text": [
      "(200, 300, 3)\n"
     ]
    }
   ],
   "source": [
    "import cv2\n",
    "\n",
    "img=cv2.imread(filename=\"test_img.jpg\",flags=1) #rgb\n",
    "img=cv2.resize(dsize=(300,200),src=img)\n",
    "print(img.shape)\n",
    "\n",
    "\n",
    "cv2.imshow(winname=\"Test Image\",mat=img)\n",
    "\n",
    "cv2.waitKey(0)\n",
    "cv2.destroyAllWindows()"
   ]
  },
  {
   "cell_type": "code",
   "execution_count": 2,
   "metadata": {},
   "outputs": [
    {
     "name": "stdout",
     "output_type": "stream",
     "text": [
      "(300, 300, 3)\n"
     ]
    }
   ],
   "source": [
    "import cv2\n",
    "\n",
    "width=300\n",
    "height=300\n",
    "dimension=(width,height)\n",
    "\n",
    "img=cv2.imread(filename=\"test_img.jpg\",flags=1) #rgb\n",
    "img=cv2.resize(dsize=dimension,src=img)\n",
    "print(img.shape)\n",
    "\n",
    "\n",
    "cv2.imshow(winname=\"Test Image\",mat=img)\n",
    "\n",
    "cv2.waitKey(0)\n",
    "cv2.destroyAllWindows()"
   ]
  },
  {
   "attachments": {},
   "cell_type": "markdown",
   "metadata": {},
   "source": [
    "### Percentage Wise Smallar Or Bigger"
   ]
  },
  {
   "cell_type": "code",
   "execution_count": 8,
   "metadata": {},
   "outputs": [
    {
     "name": "stdout",
     "output_type": "stream",
     "text": [
      "(640, 960, 3)\n",
      "(640, 1920, 3)\n"
     ]
    }
   ],
   "source": [
    "import cv2\n",
    "\n",
    "width=0\n",
    "height=0\n",
    "dimension=(width,height)\n",
    "\n",
    "#fx means Width and fy means Height\n",
    "img=cv2.imread(filename=\"test_img.jpg\",flags=1) #rgb\n",
    "print(img.shape)\n",
    "img2=cv2.resize(dsize=dimension,src=img,fx=2,fy=1)\n",
    "print(img2.shape)\n",
    "\n",
    "\n",
    "cv2.imshow(winname=\"Test Image\",mat=img2)\n",
    "\n",
    "cv2.waitKey(0)\n",
    "cv2.destroyAllWindows()"
   ]
  },
  {
   "cell_type": "code",
   "execution_count": 9,
   "metadata": {},
   "outputs": [
    {
     "name": "stdout",
     "output_type": "stream",
     "text": [
      "(640, 960, 3)\n",
      "(64, 96, 3)\n"
     ]
    }
   ],
   "source": [
    "import cv2\n",
    "\n",
    "width=0\n",
    "height=0\n",
    "dimension=(width,height)\n",
    "\n",
    "#fx means Width and fy means Height\n",
    "img=cv2.imread(filename=\"test_img.jpg\",flags=1) #rgb\n",
    "print(img.shape)\n",
    "img2=cv2.resize(dsize=dimension,src=img,fx=0.1,fy=0.1)\n",
    "print(img2.shape)\n",
    "\n",
    "\n",
    "cv2.imshow(winname=\"Test Image\",mat=img2)\n",
    "\n",
    "cv2.waitKey(0)\n",
    "cv2.destroyAllWindows()"
   ]
  },
  {
   "attachments": {},
   "cell_type": "markdown",
   "metadata": {},
   "source": [
    "## Save the image using opencv"
   ]
  },
  {
   "cell_type": "code",
   "execution_count": 11,
   "metadata": {},
   "outputs": [
    {
     "name": "stdout",
     "output_type": "stream",
     "text": [
      "(640, 960, 3)\n",
      "(64, 96, 3)\n"
     ]
    }
   ],
   "source": [
    "import cv2\n",
    "\n",
    "width=0\n",
    "height=0\n",
    "dimension=(width,height)\n",
    "\n",
    "#fx means Width and fy means Height\n",
    "img=cv2.imread(filename=\"test_img.jpg\",flags=1) #rgb\n",
    "print(img.shape)\n",
    "img2=cv2.resize(dsize=dimension,src=img,fx=0.1,fy=0.1)\n",
    "print(img2.shape)\n",
    "\n",
    "cv2.imwrite(\"edited_image.jpg\",img2)\n",
    "cv2.imshow(winname=\"Test Image\",mat=img2)\n",
    "\n",
    "cv2.waitKey(0)\n",
    "cv2.destroyAllWindows()"
   ]
  },
  {
   "cell_type": "code",
   "execution_count": 13,
   "metadata": {},
   "outputs": [
    {
     "name": "stdout",
     "output_type": "stream",
     "text": [
      "(474, 1054)\n",
      "(47, 105)\n"
     ]
    }
   ],
   "source": [
    "import cv2\n",
    "\n",
    "width=0\n",
    "height=0\n",
    "dimension=(width,height)\n",
    "\n",
    "#fx means Width and fy means Height \n",
    "img=cv2.imread(filename=\"img_2.png\",flags=0) #rgb\n",
    "print(img.shape)\n",
    "img2=cv2.resize(dsize=dimension,src=img,fx=0.1,fy=0.1)\n",
    "print(img2.shape)\n",
    "\n",
    "cv2.imwrite(\"edited_image_2.jpg\",img2)\n",
    "cv2.imshow(winname=\"Test Image\",mat=img2)\n",
    "\n",
    "cv2.waitKey(0)\n",
    "cv2.destroyAllWindows()"
   ]
  },
  {
   "cell_type": "code",
   "execution_count": 1,
   "metadata": {},
   "outputs": [
    {
     "data": {
      "text/plain": [
       "True"
      ]
     },
     "execution_count": 1,
     "metadata": {},
     "output_type": "execute_result"
    }
   ],
   "source": [
    "import cv2\n",
    "\n",
    "width=300\n",
    "height=400\n",
    "dimension=(width,height)\n",
    "\n",
    "orig_img=cv2.imread(filename=\"cat.jpg\",flags=1) #rgb\n",
    "resize_img=cv2.resize(dsize=dimension,src=orig_img)\n",
    "cv2.imwrite(\"resize_image.jpg\",img=resize_img)"
   ]
  },
  {
   "cell_type": "code",
   "execution_count": null,
   "metadata": {},
   "outputs": [],
   "source": []
  }
 ],
 "metadata": {
  "kernelspec": {
   "display_name": "Python 3",
   "language": "python",
   "name": "python3"
  },
  "language_info": {
   "codemirror_mode": {
    "name": "ipython",
    "version": 3
   },
   "file_extension": ".py",
   "mimetype": "text/x-python",
   "name": "python",
   "nbconvert_exporter": "python",
   "pygments_lexer": "ipython3",
   "version": "3.10.6"
  },
  "orig_nbformat": 4
 },
 "nbformat": 4,
 "nbformat_minor": 2
}
